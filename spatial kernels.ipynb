{
 "cells": [
  {
   "cell_type": "code",
   "execution_count": 1,
   "metadata": {
    "collapsed": true
   },
   "outputs": [],
   "source": [
    "import numpy as np\n",
    "%matplotlib inline\n",
    "from matplotlib import pyplot as plt\n",
    "import pandas as pd\n",
    "\n",
    "import lsst.afw.math as afwMath\n",
    "import lsst.afw.geom as afwGeom\n",
    "import lsst.afw.image as afwImage\n",
    "\n",
    "import diffimTests as dit"
   ]
  },
  {
   "cell_type": "code",
   "execution_count": 2,
   "metadata": {
    "collapsed": true
   },
   "outputs": [],
   "source": [
    "def getSpatialParameters(nKernelParams, func):\n",
    "    \"\"\"Get basic spatial parameters list\n",
    "\n",
    "    You may wish to tweak it up for specific cases (especially the lower order terms)\n",
    "    \"\"\"\n",
    "    nCoeff = func.getNParameters()\n",
    "    spParams = [[0.0]*nCoeff]*nKernelParams\n",
    "    for kernelTermInd in range(nKernelParams):\n",
    "        spParams[kernelTermInd][0] = 1.0\n",
    "        spParams[kernelTermInd][1:3] = [1.0e-3]*len(spParams[kernelTermInd][1:3])\n",
    "        spParams[kernelTermInd][3:6] = [1.0e-6]*len(spParams[kernelTermInd][3:6])\n",
    "        spParams[kernelTermInd][6:10] = [1.0e-9]*len(spParams[kernelTermInd][6:10])\n",
    "    return spParams"
   ]
  },
  {
   "cell_type": "code",
   "execution_count": 3,
   "metadata": {
    "collapsed": false
   },
   "outputs": [],
   "source": [
    "kSize = 19\n",
    "spOrder = 3\n",
    "\n",
    "kernelList = afwMath.KernelList()\n",
    "for ctrX in range(kSize):\n",
    "    for ctrY in range(kSize):\n",
    "        kernel = afwMath.DeltaFunctionKernel(kSize, kSize, afwGeom.Point2I(ctrX, ctrY))\n",
    "        kernelList.append(kernel)"
   ]
  },
  {
   "cell_type": "code",
   "execution_count": 4,
   "metadata": {
    "collapsed": false
   },
   "outputs": [],
   "source": [
    "polyFunc = afwMath.PolynomialFunction2D(spOrder)\n",
    "kernel = afwMath.LinearCombinationKernel(kernelList, polyFunc)\n",
    "spParams = getSpatialParameters(len(kernelList), polyFunc)\n",
    "kernel.setSpatialParameters(spParams)"
   ]
  },
  {
   "cell_type": "code",
   "execution_count": 5,
   "metadata": {
    "collapsed": false
   },
   "outputs": [
    {
     "data": {
      "text/plain": [
       "<mpl_toolkits.axes_grid1.axes_grid.ImageGrid at 0x1149bc4d0>"
      ]
     },
     "execution_count": 5,
     "metadata": {},
     "output_type": "execute_result"
    },
    {
     "data": {
      "image/png": "[encoded data removed]",
      "text/plain": [
       "<matplotlib.figure.Figure at 0x112994990>"
      ]
     },
     "metadata": {},
     "output_type": "display_data"
    }
   ],
   "source": [
    "kimg = afwImage.ImageD(kernel.getDimensions())\n",
    "kernel.computeImage(kimg, True, 10., 10.)\n",
    "\n",
    "reload(dit)\n",
    "dit.plotImageGrid((kimg,kimg), clim=(0., 0.003))"
   ]
  },
  {
   "cell_type": "markdown",
   "metadata": {},
   "source": [
    "OK, look at testSVLinearCombinationKernel in ~/lsstsw/build/afw/tests/kernel.py"
   ]
  },
  {
   "cell_type": "code",
   "execution_count": 6,
   "metadata": {
    "collapsed": false
   },
   "outputs": [
    {
     "data": {
      "text/plain": [
       "<mpl_toolkits.axes_grid1.axes_grid.ImageGrid at 0x114b66610>"
      ]
     },
     "execution_count": 6,
     "metadata": {},
     "output_type": "execute_result"
    },
    {
     "data": {
      "image/png": "[encoded data removed]",
      "text/plain": [
       "<matplotlib.figure.Figure at 0x114908d10>"
      ]
     },
     "metadata": {},
     "output_type": "display_data"
    }
   ],
   "source": [
    "kWidth = 3\n",
    "kHeight = 2\n",
    "\n",
    "# create image arrays for the basis kernels\n",
    "basisImArrList = []\n",
    "imArr = np.zeros((kWidth, kHeight), dtype=float)\n",
    "imArr += 0.1\n",
    "imArr[kWidth//2, :] = 0.9\n",
    "imArr /= imArr.sum()\n",
    "basisImArrList.append(imArr)\n",
    "imArr = np.zeros((kWidth, kHeight), dtype=float)\n",
    "imArr += 0.2\n",
    "imArr[:, kHeight//2] = 0.8\n",
    "imArr /= imArr.sum()\n",
    "basisImArrList.append(imArr)\n",
    "\n",
    "reload(dit)\n",
    "dit.plotImageGrid(basisImArrList, clim=(0,1))"
   ]
  },
  {
   "cell_type": "code",
   "execution_count": 7,
   "metadata": {
    "collapsed": false
   },
   "outputs": [
    {
     "data": {
      "text/plain": [
       "<mpl_toolkits.axes_grid1.axes_grid.ImageGrid at 0x11503ad10>"
      ]
     },
     "execution_count": 7,
     "metadata": {},
     "output_type": "execute_result"
    },
    {
     "data": {
      "image/png": "[encoded data removed]",
      "text/plain": [
       "<matplotlib.figure.Figure at 0x114b6fb90>"
      ]
     },
     "metadata": {},
     "output_type": "display_data"
    }
   ],
   "source": [
    "# create a list of basis kernels from the images\n",
    "basisKernelList = afwMath.KernelList()\n",
    "for basisImArr in basisImArrList:\n",
    "    basisImage = afwImage.makeImageFromArray(basisImArr.transpose().copy())\n",
    "    kernel = afwMath.FixedKernel(basisImage)\n",
    "    basisKernelList.append(kernel)\n",
    "\n",
    "reload(dit)\n",
    "dit.plotImageGrid(basisKernelList, clim=(0,1))"
   ]
  },
  {
   "cell_type": "code",
   "execution_count": 8,
   "metadata": {
    "collapsed": false
   },
   "outputs": [
    {
     "name": "stdout",
     "output_type": "stream",
     "text": [
      "[0.0, 0.99999999999999989, 1.0, 2.0, 1.0]\n"
     ]
    },
    {
     "data": {
      "text/plain": [
       "<mpl_toolkits.axes_grid1.axes_grid.ImageGrid at 0x11564f690>"
      ]
     },
     "execution_count": 8,
     "metadata": {},
     "output_type": "execute_result"
    },
    {
     "data": {
      "image/png": "[encoded data removed]",
      "text/plain": [
       "<matplotlib.figure.Figure at 0x114b7d850>"
      ]
     },
     "metadata": {},
     "output_type": "display_data"
    }
   ],
   "source": [
    "spFunc = afwMath.PolynomialFunction2D(1)\n",
    "\n",
    "# spatial parameters are a list of entries, one per kernel parameter;\n",
    "# each entry is a list of spatial parameters for a given kernel basis: \n",
    "# polynomial coefficients (const, x, y, x^2, xy, y^2...); length must be one of 1, 3, 6, 10, 15... \n",
    "sParams = (\n",
    "    (0.0, 1.0, 0.0),\n",
    "    (0.0, 0.0, 1.0),\n",
    ")\n",
    "\n",
    "kernel = afwMath.LinearCombinationKernel(basisKernelList, spFunc)\n",
    "kernel.setSpatialParameters(sParams)\n",
    "kImages = []\n",
    "for colPos, rowPos, coeff0, coeff1 in [\n",
    "    (0.0, 0.0, 0.0, 0.0),\n",
    "    (1.0, 0.0, 1.0, 0.0),\n",
    "    (0.0, 1.0, 0.0, 1.0),\n",
    "    (1.0, 1.0, 1.0, 1.0),\n",
    "    (0.5, 0.5, 0.5, 0.5),]:\n",
    "    kImage = afwImage.ImageD(afwGeom.Extent2I(kWidth, kHeight))\n",
    "    kernel.computeImage(kImage, False, colPos, rowPos)\n",
    "    kImages.append(kImage)\n",
    "    kImArr = kImage.getArray().transpose()\n",
    "    refKImArr = (basisImArrList[0] * coeff0) + (basisImArrList[1] * coeff1)\n",
    "    \n",
    "print [kim.getArray().sum() for kim in kImages]\n",
    "\n",
    "reload(dit)\n",
    "dit.plotImageGrid(kImages, clim=(0,1))"
   ]
  },
  {
   "cell_type": "code",
   "execution_count": 9,
   "metadata": {
    "collapsed": false
   },
   "outputs": [
    {
     "name": "stdout",
     "output_type": "stream",
     "text": [
      "[0.0, 1.0, 0.99999999999999989, 2.0, 1.0]\n"
     ]
    },
    {
     "data": {
      "text/plain": [
       "<mpl_toolkits.axes_grid1.axes_grid.ImageGrid at 0x115d41410>"
      ]
     },
     "execution_count": 9,
     "metadata": {},
     "output_type": "execute_result"
    },
    {
     "data": {
      "image/png": "[encoded data removed]",
      "text/plain": [
       "<matplotlib.figure.Figure at 0x115eaab10>"
      ]
     },
     "metadata": {},
     "output_type": "display_data"
    }
   ],
   "source": [
    "sParams = (\n",
    "    (0.0, 0.0, 1.0),\n",
    "    (0.0, 1.0, 0.0),\n",
    ")\n",
    "kernel.setSpatialParameters(sParams)\n",
    "\n",
    "kImages = []\n",
    "for colPos, rowPos, coeff0, coeff1 in [\n",
    "    (0.0, 0.0, 0.0, 0.0),\n",
    "    (1.0, 0.0, 1.0, 0.0),\n",
    "    (0.0, 1.0, 0.0, 1.0),\n",
    "    (1.0, 1.0, 1.0, 1.0),\n",
    "    (0.5, 0.5, 0.5, 0.5),]:\n",
    "    kImage = afwImage.ImageD(afwGeom.Extent2I(kWidth, kHeight))\n",
    "    kernel.computeImage(kImage, False, colPos, rowPos)\n",
    "    kImages.append(kImage)\n",
    "    kImArr = kImage.getArray().transpose()\n",
    "    refKImArr = (basisImArrList[0] * coeff0) + (basisImArrList[1] * coeff1)\n",
    "    \n",
    "print [kim.getArray().sum() for kim in kImages]\n",
    "\n",
    "reload(dit)\n",
    "dit.plotImageGrid(kImages, clim=(0,1))"
   ]
  },
  {
   "cell_type": "markdown",
   "metadata": {
    "collapsed": true
   },
   "source": [
    "It looks like a LanczosFunction2D is what we could use to \"interpolate\" between a grid of kernels.\n",
    "Let's see at least if it will work.\n",
    "\n",
    "We will need to set a separate LanczosFunction2D for each kernel, centered on the center location upon which the grid was calculated (the first param of LanczosFunction2D() is 'n' which describes the spatial scale)"
   ]
  },
  {
   "cell_type": "code",
   "execution_count": 10,
   "metadata": {
    "collapsed": false
   },
   "outputs": [
    {
     "name": "stdout",
     "output_type": "stream",
     "text": [
      "[0.99999999999999989, 1.0]\n",
      "[0.99999999999999989, 3.0391487271694929e-33, 3.0391487271694929e-33, 1.0, 0.32851143214989875]\n"
     ]
    },
    {
     "data": {
      "text/plain": [
       "<mpl_toolkits.axes_grid1.axes_grid.ImageGrid at 0x115d6dc90>"
      ]
     },
     "execution_count": 10,
     "metadata": {},
     "output_type": "execute_result"
    },
    {
     "data": {
      "image/png": "[encoded data removed]",
      "text/plain": [
       "<matplotlib.figure.Figure at 0x115eaad10>"
      ]
     },
     "metadata": {},
     "output_type": "display_data"
    }
   ],
   "source": [
    "sParams = afwMath.Function2DList()\n",
    "sParams.append(afwMath.LanczosFunction2D(1, 0., 0.))\n",
    "sParams.append(afwMath.LanczosFunction2D(1, 1., 1.))\n",
    "kernel = afwMath.LinearCombinationKernel(basisKernelList, sParams)\n",
    "\n",
    "kImages = []\n",
    "for colPos, rowPos in [\n",
    "    (0.0, 0.0),\n",
    "    (1.0, 0.0),\n",
    "    (0.0, 1.0),\n",
    "    (1.0, 1.0),\n",
    "    (0.5, 0.5),]:\n",
    "    kImage = afwImage.ImageD(afwGeom.Extent2I(kWidth, kHeight))\n",
    "    kernel.computeImage(kImage, False, colPos, rowPos)\n",
    "    kImages.append(kImage)\n",
    "    kImArr = kImage.getArray().transpose()\n",
    "    \n",
    "print [kim.sum() for kim in basisImArrList]\n",
    "print [kim.getArray().sum() for kim in kImages]\n",
    "\n",
    "reload(dit)\n",
    "dit.plotImageGrid(kImages, clim=(0,1))"
   ]
  },
  {
   "cell_type": "markdown",
   "metadata": {},
   "source": [
    "OK, seems to work. Let's try it with 4 kernels on the corners and make sure that the normalization is okay."
   ]
  },
  {
   "cell_type": "code",
   "execution_count": 11,
   "metadata": {
    "collapsed": false
   },
   "outputs": [
    {
     "data": {
      "text/plain": [
       "<mpl_toolkits.axes_grid1.axes_grid.ImageGrid at 0x11747c7d0>"
      ]
     },
     "execution_count": 11,
     "metadata": {},
     "output_type": "execute_result"
    },
    {
     "data": {
      "image/png": "[encoded data removed]",
      "text/plain": [
       "<matplotlib.figure.Figure at 0x116a907d0>"
      ]
     },
     "metadata": {},
     "output_type": "display_data"
    }
   ],
   "source": [
    "kWidth = 8\n",
    "kHeight = 8\n",
    "\n",
    "# create image arrays for the basis kernels\n",
    "basisImArrList = []\n",
    "for i in range(kWidth):\n",
    "    for j in range(kHeight):\n",
    "        imArr = np.zeros((kWidth, kHeight), dtype=float)\n",
    "        imArr[i, j] = 1\n",
    "        basisImArrList.append(imArr)\n",
    "\n",
    "# create a list of basis kernels from the images\n",
    "basisKernelList = afwMath.KernelList()\n",
    "for basisImArr in basisImArrList:\n",
    "    basisImage = afwImage.makeImageFromArray(basisImArr.transpose().copy())\n",
    "    kernel = afwMath.FixedKernel(basisImage)\n",
    "    basisKernelList.append(kernel)\n",
    "\n",
    "reload(dit)\n",
    "dit.plotImageGrid(basisKernelList[0:9], clim=(0,0.5))"
   ]
  },
  {
   "cell_type": "code",
   "execution_count": 12,
   "metadata": {
    "collapsed": false
   },
   "outputs": [
    {
     "name": "stdout",
     "output_type": "stream",
     "text": [
      "[1.0, 1.0, 1.0, 1.0, 1.2185265241274816, 0.94212352139492528, 0.98863970312829563, 0.98863970312829563, 0.99548709036410044, 0.99570517589034813, 0.99548709036410021]\n"
     ]
    },
    {
     "data": {
      "text/plain": [
       "<mpl_toolkits.axes_grid1.axes_grid.ImageGrid at 0x11a06ac90>"
      ]
     },
     "execution_count": 12,
     "metadata": {},
     "output_type": "execute_result"
    },
    {
     "data": {
      "image/png": "[encoded data removed]",
      "text/plain": [
       "<matplotlib.figure.Figure at 0x116012950>"
      ]
     },
     "metadata": {},
     "output_type": "display_data"
    }
   ],
   "source": [
    "sParams = afwMath.Function2DList()\n",
    "aScale = 3\n",
    "\n",
    "for i in range(kWidth):\n",
    "    for j in range(kHeight):\n",
    "        sParams.append(afwMath.LanczosFunction2D(aScale, float(i), float(j)))\n",
    "\n",
    "kernel = afwMath.LinearCombinationKernel(basisKernelList, sParams)\n",
    "\n",
    "def computeInterpolatedKernel(kernel, x, y):\n",
    "    kImage = afwImage.ImageD(afwGeom.Extent2I(kWidth, kHeight))\n",
    "    kernel.computeImage(kImage, False, x, y)\n",
    "    return kImage\n",
    "\n",
    "kImages = []\n",
    "for x, y in [\n",
    "    (0.0, 0.0),\n",
    "    (1.0, 0.0),\n",
    "    (0.0, 1.0),\n",
    "    (1.0, 1.0),\n",
    "    (0.51, 0.51),\n",
    "    (1.51, 1.51),\n",
    "    (2.51, 2.51),\n",
    "    (3.51, 3.51),\n",
    "    (3.7, 3.9),\n",
    "    (3.8, 3.8),\n",
    "    (4.7, 4.9)]:\n",
    "    kImage = computeInterpolatedKernel(kernel, x, y)\n",
    "    kImages.append(kImage)\n",
    "    \n",
    "print [kim.getArray().sum() for kim in kImages]\n",
    "\n",
    "reload(dit)\n",
    "dit.plotImageGrid(kImages, clim=(0,1))"
   ]
  },
  {
   "cell_type": "code",
   "execution_count": 13,
   "metadata": {
    "collapsed": false
   },
   "outputs": [
    {
     "data": {
      "text/plain": [
       "array([[ 0.35354105,  0.36934419, -0.08136371,  0.01483138,  0.        ,\n",
       "         0.        ,  0.        ,  0.        ],\n",
       "       [ 0.36934419,  0.38585373, -0.08500063,  0.01549433,  0.        ,\n",
       "         0.        ,  0.        ,  0.        ],\n",
       "       [-0.08136371, -0.08500063,  0.01872499, -0.00341328,  0.        ,\n",
       "         0.        ,  0.        ,  0.        ],\n",
       "       [ 0.01483138,  0.01549433, -0.00341328,  0.00062219,  0.        ,\n",
       "         0.        ,  0.        ,  0.        ],\n",
       "       [ 0.        ,  0.        ,  0.        ,  0.        ,  0.        ,\n",
       "         0.        ,  0.        ,  0.        ],\n",
       "       [ 0.        ,  0.        ,  0.        ,  0.        ,  0.        ,\n",
       "         0.        ,  0.        ,  0.        ],\n",
       "       [ 0.        ,  0.        ,  0.        ,  0.        ,  0.        ,\n",
       "         0.        ,  0.        ,  0.        ],\n",
       "       [ 0.        ,  0.        ,  0.        ,  0.        ,  0.        ,\n",
       "         0.        ,  0.        ,  0.        ]])"
      ]
     },
     "execution_count": 13,
     "metadata": {},
     "output_type": "execute_result"
    }
   ],
   "source": [
    "kImages[4].getArray()"
   ]
  },
  {
   "cell_type": "code",
   "execution_count": 14,
   "metadata": {
    "collapsed": false
   },
   "outputs": [
    {
     "name": "stdout",
     "output_type": "stream",
     "text": [
      "[-2.  -1.9 -1.8 -1.7 -1.6 -1.5 -1.4 -1.3 -1.2 -1.1 -1.  -0.9 -0.8 -0.7 -0.6\n",
      " -0.5 -0.4 -0.3 -0.2 -0.1  0.   0.1  0.2  0.3  0.4  0.5  0.6  0.7  0.8  0.9\n",
      "  1.   1.1  1.2  1.3  1.4  1.5  1.6  1.7  1.8  1.9  2. ]\n",
      "[  0.00000000e+00   0.00000000e+00   0.00000000e+00   0.00000000e+00\n",
      "   0.00000000e+00   0.00000000e+00   0.00000000e+00   0.00000000e+00\n",
      "   0.00000000e+00   0.00000000e+00   6.15860293e-34   4.84105715e-03\n",
      "   2.21675602e-02   5.48503887e-02   1.03174091e-01   1.64255716e-01\n",
      "   2.32141705e-01   2.98629894e-01   3.54680964e-01   3.92125629e-01\n",
      "   4.05284735e-01   3.92125629e-01   3.54680964e-01   2.98629894e-01\n",
      "   2.32141705e-01   1.64255716e-01   1.03174091e-01   5.48503887e-02\n",
      "   2.21675602e-02   4.84105715e-03   6.15860293e-34   0.00000000e+00\n",
      "   0.00000000e+00   0.00000000e+00   0.00000000e+00   0.00000000e+00\n",
      "   0.00000000e+00   0.00000000e+00   0.00000000e+00   0.00000000e+00\n",
      "   0.00000000e+00]\n",
      "[ 0.65702286]\n"
     ]
    },
    {
     "data": {
      "text/plain": [
       "[<matplotlib.lines.Line2D at 0x11c2ca910>]"
      ]
     },
     "execution_count": 14,
     "metadata": {},
     "output_type": "execute_result"
    },
    {
     "data": {
      "image/png": "[encoded data removed]",
      "text/plain": [
       "<matplotlib.figure.Figure at 0x11a20c310>"
      ]
     },
     "metadata": {},
     "output_type": "display_data"
    }
   ],
   "source": [
    "aScale = 1\n",
    "tmp = afwMath.LanczosFunction2D(aScale, 0., 0.)\n",
    "x = np.linspace(-2.,2.,41)\n",
    "y = np.array([tmp(xx, 0.5) for xx in x])\n",
    "print x\n",
    "print y\n",
    "print y[x == 0.5] * 4.\n",
    "plt.plot(x, y)"
   ]
  },
  {
   "cell_type": "code",
   "execution_count": 15,
   "metadata": {
    "collapsed": false
   },
   "outputs": [
    {
     "name": "stdout",
     "output_type": "stream",
     "text": [
      "[ 0.65702286]\n"
     ]
    },
    {
     "data": {
      "text/plain": [
       "[<matplotlib.lines.Line2D at 0x11c5da8d0>]"
      ]
     },
     "execution_count": 15,
     "metadata": {},
     "output_type": "execute_result"
    },
    {
     "data": {
      "image/png": "[encoded data removed]",
      "text/plain": [
       "<matplotlib.figure.Figure at 0x11ab67e50>"
      ]
     },
     "metadata": {},
     "output_type": "display_data"
    }
   ],
   "source": [
    "xOff = 0.5\n",
    "yOff = 0.5\n",
    "aScale = 1\n",
    "def L(x, y, a=1):\n",
    "    if x >= a or x <= -a:\n",
    "        return 0.\n",
    "    return np.sinc(x) * np.sinc(x/a) * np.sinc(y) * np.sinc(y/a)\n",
    "y2 = np.array([L(xx, 0.5, aScale) for xx in x])\n",
    "print y2[x == 0.5] * 4.\n",
    "plt.plot(x, y2)"
   ]
  },
  {
   "cell_type": "markdown",
   "metadata": {},
   "source": [
    "OK, need to override the `afwMath.LanczosFunction2D` to set it to zero when |x| or |y| is > a. They don't do it for some reason that I don't understand, see `afw/math/FunctionLibrary.h`. This won't work, so let's just edit `FunctionLibrary.h` to do what we want..."
   ]
  },
  {
   "cell_type": "code",
   "execution_count": 16,
   "metadata": {
    "collapsed": false
   },
   "outputs": [],
   "source": [
    "class MyLanczosFunction2D(afwMath.LanczosFunction2D):\n",
    "    def __init__(self, n, xOffset=0.0, yOffset=0.0):\n",
    "        afwMath.LanczosFunction2D.__init__(self, n, xOffset, yOffset)\n",
    "        \n",
    "    def __call__(self, x, y):\n",
    "        out = afwMath.LanczosFunction2D.__call__(self, x, y)\n",
    "        if ((abs(x - self._params[0]) > self.getOrder()) or (abs(y - self._params[1]) > self.getOrder())):\n",
    "            out = 0.\n",
    "        return out"
   ]
  },
  {
   "cell_type": "raw",
   "metadata": {},
   "source": [
    "aScale = 1\n",
    "tmp = MyLanczosFunction2D(aScale, 0., 0.)\n",
    "y = np.array([tmp(xx, 0.5) for xx in x])\n",
    "print x\n",
    "print y\n",
    "print y[x == 0.5] * 4.\n",
    "plt.plot(x, y)"
   ]
  },
  {
   "cell_type": "markdown",
   "metadata": {},
   "source": [
    "After editing and recompiling and reloading the new `afw`:"
   ]
  },
  {
   "cell_type": "code",
   "execution_count": 17,
   "metadata": {
    "collapsed": false
   },
   "outputs": [
    {
     "name": "stdout",
     "output_type": "stream",
     "text": [
      "[-2.  -1.9 -1.8 -1.7 -1.6 -1.5 -1.4 -1.3 -1.2 -1.1 -1.  -0.9 -0.8 -0.7 -0.6\n",
      " -0.5 -0.4 -0.3 -0.2 -0.1  0.   0.1  0.2  0.3  0.4  0.5  0.6  0.7  0.8  0.9\n",
      "  1.   1.1  1.2  1.3  1.4  1.5  1.6  1.7  1.8  1.9  2. ]\n",
      "[  0.00000000e+00   0.00000000e+00   0.00000000e+00   0.00000000e+00\n",
      "   0.00000000e+00   0.00000000e+00   0.00000000e+00   0.00000000e+00\n",
      "   0.00000000e+00   0.00000000e+00   6.15860293e-34   4.84105715e-03\n",
      "   2.21675602e-02   5.48503887e-02   1.03174091e-01   1.64255716e-01\n",
      "   2.32141705e-01   2.98629894e-01   3.54680964e-01   3.92125629e-01\n",
      "   4.05284735e-01   3.92125629e-01   3.54680964e-01   2.98629894e-01\n",
      "   2.32141705e-01   1.64255716e-01   1.03174091e-01   5.48503887e-02\n",
      "   2.21675602e-02   4.84105715e-03   6.15860293e-34   0.00000000e+00\n",
      "   0.00000000e+00   0.00000000e+00   0.00000000e+00   0.00000000e+00\n",
      "   0.00000000e+00   0.00000000e+00   0.00000000e+00   0.00000000e+00\n",
      "   0.00000000e+00]\n",
      "[ 0.65702286]\n"
     ]
    },
    {
     "data": {
      "text/plain": [
       "[<matplotlib.lines.Line2D at 0x11ca89450>]"
      ]
     },
     "execution_count": 17,
     "metadata": {},
     "output_type": "execute_result"
    },
    {
     "data": {
      "image/png": "[encoded data removed]",
      "text/plain": [
       "<matplotlib.figure.Figure at 0x11c256d50>"
      ]
     },
     "metadata": {},
     "output_type": "display_data"
    }
   ],
   "source": [
    "aScale = 1\n",
    "tmp = afwMath.LanczosFunction2D(aScale, 0., 0.)\n",
    "x = np.linspace(-2.,2.,41)\n",
    "y = np.array([tmp(xx, 0.5) for xx in x])\n",
    "print x\n",
    "print y\n",
    "print y[x == 0.5] * 4.\n",
    "plt.plot(x, y)"
   ]
  },
  {
   "cell_type": "code",
   "execution_count": 18,
   "metadata": {
    "collapsed": false
   },
   "outputs": [
    {
     "name": "stdout",
     "output_type": "stream",
     "text": [
      "[1.0, 1.0, 1.0, 1.0, 1.2185265241274816, 0.94212352139492528, 0.98863970312829563, 0.98863970312829563, 0.99548709036410044, 0.99570517589034813, 0.99548709036410021]\n"
     ]
    },
    {
     "data": {
      "text/plain": [
       "<mpl_toolkits.axes_grid1.axes_grid.ImageGrid at 0x11c5e6510>"
      ]
     },
     "execution_count": 18,
     "metadata": {},
     "output_type": "execute_result"
    },
    {
     "data": {
      "image/png": "[encoded data removed]",
      "text/plain": [
       "<matplotlib.figure.Figure at 0x11a0d58d0>"
      ]
     },
     "metadata": {},
     "output_type": "display_data"
    }
   ],
   "source": [
    "sParams = afwMath.Function2DList()\n",
    "aScale = 3\n",
    "\n",
    "for i in range(kWidth):\n",
    "    for j in range(kHeight):\n",
    "        sParams.append(afwMath.LanczosFunction2D(aScale, float(i), float(j)))\n",
    "\n",
    "kernel = afwMath.LinearCombinationKernel(basisKernelList, sParams)\n",
    "\n",
    "def computeInterpolatedKernel(kernel, x, y):\n",
    "    kImage = afwImage.ImageD(afwGeom.Extent2I(kWidth, kHeight))\n",
    "    kernel.computeImage(kImage, False, x, y)\n",
    "    return kImage\n",
    "\n",
    "kImages = []\n",
    "for x, y in [\n",
    "    (0.0, 0.0),\n",
    "    (1.0, 0.0),\n",
    "    (0.0, 1.0),\n",
    "    (1.0, 1.0),\n",
    "    (0.51, 0.51),\n",
    "    (1.51, 1.51),\n",
    "    (2.51, 2.51),\n",
    "    (3.51, 3.51),\n",
    "    (3.7, 3.9),\n",
    "    (3.8, 3.8),\n",
    "    (4.7, 4.9)]:\n",
    "    kImage = computeInterpolatedKernel(kernel, x, y)\n",
    "    kImages.append(kImage)\n",
    "    \n",
    "print [kim.getArray().sum() for kim in kImages]\n",
    "\n",
    "reload(dit)\n",
    "dit.plotImageGrid(kImages, clim=(0,1))"
   ]
  },
  {
   "cell_type": "markdown",
   "metadata": {
    "collapsed": true
   },
   "source": [
    "Heh, try my LinearFunction2D interpolator..."
   ]
  },
  {
   "cell_type": "code",
   "execution_count": 19,
   "metadata": {
    "collapsed": false
   },
   "outputs": [
    {
     "name": "stdout",
     "output_type": "stream",
     "text": [
      "[-2.  -1.9 -1.8 -1.7 -1.6 -1.5 -1.4 -1.3 -1.2 -1.1 -1.  -0.9 -0.8 -0.7 -0.6\n",
      " -0.5 -0.4 -0.3 -0.2 -0.1  0.   0.1  0.2  0.3  0.4  0.5  0.6  0.7  0.8  0.9\n",
      "  1.   1.1  1.2  1.3  1.4  1.5  1.6  1.7  1.8  1.9  2. ]\n",
      "[ 0.   0.   0.   0.   0.   0.   0.   0.   0.   0.   0.   0.1  0.2  0.3  0.4\n",
      "  0.5  0.6  0.7  0.8  0.9  1.   0.9  0.8  0.7  0.6  0.5  0.4  0.3  0.2  0.1\n",
      "  0.   0.   0.   0.   0.   0.   0.   0.   0.   0.   0. ]\n",
      "[ 2.]\n"
     ]
    },
    {
     "data": {
      "text/plain": [
       "[<matplotlib.lines.Line2D at 0x11dfef6d0>]"
      ]
     },
     "execution_count": 19,
     "metadata": {},
     "output_type": "execute_result"
    },
    {
     "data": {
      "image/png": "[encoded data removed]",
      "text/plain": [
       "<matplotlib.figure.Figure at 0x11c540b10>"
      ]
     },
     "metadata": {},
     "output_type": "display_data"
    }
   ],
   "source": [
    "slope = 1.0\n",
    "tmp = afwMath.LinearFunction2D(slope, 0.0, 0.)\n",
    "x = np.linspace(-2.,2.,41)\n",
    "y = np.array([tmp(xx, 0.0) for xx in x])\n",
    "print x\n",
    "print y\n",
    "print y[x == 0.5] * 4.\n",
    "plt.plot(x, y)"
   ]
  },
  {
   "cell_type": "code",
   "execution_count": 24,
   "metadata": {
    "collapsed": false
   },
   "outputs": [
    {
     "name": "stdout",
     "output_type": "stream",
     "text": [
      "[9.0, 9.0, 9.0, 9.0, 9.0, 9.0, 9.0, 9.0, 9.0, 9.0, 9.0]\n"
     ]
    },
    {
     "data": {
      "text/plain": [
       "<mpl_toolkits.axes_grid1.axes_grid.ImageGrid at 0x126258290>"
      ]
     },
     "execution_count": 24,
     "metadata": {},
     "output_type": "execute_result"
    },
    {
     "data": {
      "image/png": "[encoded data removed]",
      "text/plain": [
       "<matplotlib.figure.Figure at 0x11c549f10>"
      ]
     },
     "metadata": {},
     "output_type": "display_data"
    }
   ],
   "source": [
    "sParams = afwMath.Function2DList()\n",
    "slope = 3.\n",
    "\n",
    "for i in range(kWidth):\n",
    "    for j in range(kHeight):\n",
    "        sParams.append(afwMath.LinearFunction2D(slope, float(i), float(j)))\n",
    "\n",
    "kernel = afwMath.LinearCombinationKernel(basisKernelList, sParams)\n",
    "\n",
    "def computeInterpolatedKernel(kernel, x, y):\n",
    "    kImage = afwImage.ImageD(afwGeom.Extent2I(kWidth, kHeight))\n",
    "    kernel.computeImage(kImage, False, x, y)\n",
    "    return kImage\n",
    "\n",
    "kImages = []\n",
    "for x, y in [\n",
    "    (0.0, 0.0),\n",
    "    (1.0, 0.0),\n",
    "    (0.0, 1.0),\n",
    "    (1.0, 1.0),\n",
    "    (0.51, 0.51),\n",
    "    (1.51, 1.51),\n",
    "    (2.51, 2.51),\n",
    "    (3.51, 3.51),\n",
    "    (3.7, 3.9),\n",
    "    (3.8, 3.8),\n",
    "    (4.7, 4.9)]:\n",
    "    kImage = computeInterpolatedKernel(kernel, x, y)\n",
    "    kImages.append(kImage)\n",
    "    \n",
    "print [kim.getArray().sum() for kim in kImages]\n",
    "\n",
    "reload(dit)\n",
    "dit.plotImageGrid(kImages, clim=(0,1))"
   ]
  },
  {
   "cell_type": "markdown",
   "metadata": {
    "collapsed": true
   },
   "source": [
    "OK, this will work but it will lead to 100 convolutions (if we use a 10x10 grid). Let's take a look into the PCA stuff."
   ]
  },
  {
   "cell_type": "code",
   "execution_count": null,
   "metadata": {
    "collapsed": true
   },
   "outputs": [],
   "source": []
  }
 ],
 "metadata": {
  "kernelspec": {
   "display_name": "Python 2",
   "language": "python",
   "name": "python2"
  },
  "language_info": {
   "codemirror_mode": {
    "name": "ipython",
    "version": 2
   },
   "file_extension": ".py",
   "mimetype": "text/x-python",
   "name": "python",
   "nbconvert_exporter": "python",
   "pygments_lexer": "ipython2",
   "version": "2.7.12"
  }
 },
 "nbformat": 4,
 "nbformat_minor": 0
}
