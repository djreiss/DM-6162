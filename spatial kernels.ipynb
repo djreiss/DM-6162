{
 "cells": [
  {
   "cell_type": "code",
   "execution_count": 2,
   "metadata": {
    "collapsed": true
   },
   "outputs": [],
   "source": [
    "import numpy as np\n",
    "%matplotlib inline\n",
    "from matplotlib import pyplot as plt\n",
    "import pandas as pd\n",
    "\n",
    "import lsst.afw.math as afwMath\n",
    "import lsst.afw.geom as afwGeom\n",
    "import lsst.afw.image as afwImage\n",
    "\n",
    "import diffimTests as dit"
   ]
  },
  {
   "cell_type": "code",
   "execution_count": 3,
   "metadata": {
    "collapsed": true
   },
   "outputs": [],
   "source": [
    "def getSpatialParameters(nKernelParams, func):\n",
    "    \"\"\"Get basic spatial parameters list\n",
    "\n",
    "    You may wish to tweak it up for specific cases (especially the lower order terms)\n",
    "    \"\"\"\n",
    "    nCoeff = func.getNParameters()\n",
    "    spParams = [[0.0]*nCoeff]*nKernelParams\n",
    "    for kernelTermInd in range(nKernelParams):\n",
    "        spParams[kernelTermInd][0] = 1.0\n",
    "        spParams[kernelTermInd][1:3] = [1.0e-3]*len(spParams[kernelTermInd][1:3])\n",
    "        spParams[kernelTermInd][3:6] = [1.0e-6]*len(spParams[kernelTermInd][3:6])\n",
    "        spParams[kernelTermInd][6:10] = [1.0e-9]*len(spParams[kernelTermInd][6:10])\n",
    "    return spParams"
   ]
  },
  {
   "cell_type": "code",
   "execution_count": 4,
   "metadata": {
    "collapsed": false
   },
   "outputs": [],
   "source": [
    "kSize = 19\n",
    "spOrder = 3\n",
    "\n",
    "kernelList = afwMath.KernelList()\n",
    "for ctrX in range(kSize):\n",
    "    for ctrY in range(kSize):\n",
    "        kernel = afwMath.DeltaFunctionKernel(kSize, kSize, afwGeom.Point2I(ctrX, ctrY))\n",
    "        kernelList.append(kernel)"
   ]
  },
  {
   "cell_type": "code",
   "execution_count": 5,
   "metadata": {
    "collapsed": false
   },
   "outputs": [],
   "source": [
    "polyFunc = afwMath.PolynomialFunction2D(spOrder)\n",
    "kernel = afwMath.LinearCombinationKernel(kernelList, polyFunc)\n",
    "spParams = getSpatialParameters(len(kernelList), polyFunc)\n",
    "kernel.setSpatialParameters(spParams)"
   ]
  },
  {
   "cell_type": "code",
   "execution_count": 6,
   "metadata": {
    "collapsed": false
   },
   "outputs": [
    {
     "data": {
      "text/plain": [
       "<mpl_toolkits.axes_grid1.axes_grid.ImageGrid at 0x114cdc0d0>"
      ]
     },
     "execution_count": 6,
     "metadata": {},
     "output_type": "execute_result"
    },
    {
     "data": {
      "image/png": "[encoded data removed]",
      "text/plain": [
       "<matplotlib.figure.Figure at 0x112cf3990>"
      ]
     },
     "metadata": {},
     "output_type": "display_data"
    }
   ],
   "source": [
    "kimg = afwImage.ImageD(kernel.getDimensions())\n",
    "kernel.computeImage(kimg, True, 10., 10.)\n",
    "\n",
    "reload(dit)\n",
    "dit.plotImageGrid((kimg,kimg), clim=(0., 0.003))"
   ]
  },
  {
   "cell_type": "markdown",
   "metadata": {},
   "source": [
    "OK, look at testSVLinearCombinationKernel in ~/lsstsw/build/afw/tests/kernel.py"
   ]
  },
  {
   "cell_type": "code",
   "execution_count": 7,
   "metadata": {
    "collapsed": false
   },
   "outputs": [
    {
     "data": {
      "text/plain": [
       "<mpl_toolkits.axes_grid1.axes_grid.ImageGrid at 0x114fc89d0>"
      ]
     },
     "execution_count": 7,
     "metadata": {},
     "output_type": "execute_result"
    },
    {
     "data": {
      "image/png": "[encoded data removed]",
      "text/plain": [
       "<matplotlib.figure.Figure at 0x114c2da10>"
      ]
     },
     "metadata": {},
     "output_type": "display_data"
    }
   ],
   "source": [
    "kWidth = 3\n",
    "kHeight = 2\n",
    "\n",
    "# create image arrays for the basis kernels\n",
    "basisImArrList = []\n",
    "imArr = np.zeros((kWidth, kHeight), dtype=float)\n",
    "imArr += 0.1\n",
    "imArr[kWidth//2, :] = 0.9\n",
    "imArr /= imArr.sum()\n",
    "basisImArrList.append(imArr)\n",
    "imArr = np.zeros((kWidth, kHeight), dtype=float)\n",
    "imArr += 0.2\n",
    "imArr[:, kHeight//2] = 0.8\n",
    "imArr /= imArr.sum()\n",
    "basisImArrList.append(imArr)\n",
    "\n",
    "reload(dit)\n",
    "dit.plotImageGrid(basisImArrList, clim=(0,1))"
   ]
  },
  {
   "cell_type": "code",
   "execution_count": 8,
   "metadata": {
    "collapsed": false
   },
   "outputs": [
    {
     "data": {
      "text/plain": [
       "<mpl_toolkits.axes_grid1.axes_grid.ImageGrid at 0x114c2d210>"
      ]
     },
     "execution_count": 8,
     "metadata": {},
     "output_type": "execute_result"
    },
    {
     "data": {
      "image/png": "[encoded data removed]",
      "text/plain": [
       "<matplotlib.figure.Figure at 0x115475cd0>"
      ]
     },
     "metadata": {},
     "output_type": "display_data"
    }
   ],
   "source": [
    "# create a list of basis kernels from the images\n",
    "basisKernelList = afwMath.KernelList()\n",
    "for basisImArr in basisImArrList:\n",
    "    basisImage = afwImage.makeImageFromArray(basisImArr.transpose().copy())\n",
    "    kernel = afwMath.FixedKernel(basisImage)\n",
    "    basisKernelList.append(kernel)\n",
    "\n",
    "reload(dit)\n",
    "dit.plotImageGrid(basisKernelList, clim=(0,1))"
   ]
  },
  {
   "cell_type": "code",
   "execution_count": 19,
   "metadata": {
    "collapsed": false
   },
   "outputs": [
    {
     "name": "stdout",
     "output_type": "stream",
     "text": [
      "[0.0, 2.2000000000000002, 3.0, 5.2000000000000011, 2.6000000000000005]\n"
     ]
    },
    {
     "data": {
      "text/plain": [
       "<mpl_toolkits.axes_grid1.axes_grid.ImageGrid at 0x116d1c850>"
      ]
     },
     "execution_count": 19,
     "metadata": {},
     "output_type": "execute_result"
    },
    {
     "data": {
      "image/png": "[encoded data removed]",
      "text/plain": [
       "<matplotlib.figure.Figure at 0x1154ad090>"
      ]
     },
     "metadata": {},
     "output_type": "display_data"
    }
   ],
   "source": [
    "spFunc = afwMath.PolynomialFunction2D(1)\n",
    "\n",
    "# spatial parameters are a list of entries, one per kernel parameter;\n",
    "# each entry is a list of spatial parameters for a given kernel basis: \n",
    "# polynomial coefficients (const, x, y, x^2, xy, y^2...); length must be one of 1, 3, 6, 10, 15... \n",
    "sParams = (\n",
    "    (0.0, 1.0, 0.0),\n",
    "    (0.0, 0.0, 1.0),\n",
    ")\n",
    "\n",
    "kernel = afwMath.LinearCombinationKernel(basisKernelList, spFunc)\n",
    "kernel.setSpatialParameters(sParams)\n",
    "kImages = []\n",
    "for colPos, rowPos, coeff0, coeff1 in [\n",
    "    (0.0, 0.0, 0.0, 0.0),\n",
    "    (1.0, 0.0, 1.0, 0.0),\n",
    "    (0.0, 1.0, 0.0, 1.0),\n",
    "    (1.0, 1.0, 1.0, 1.0),\n",
    "    (0.5, 0.5, 0.5, 0.5),]:\n",
    "    kImage = afwImage.ImageD(afwGeom.Extent2I(kWidth, kHeight))\n",
    "    kernel.computeImage(kImage, False, colPos, rowPos)\n",
    "    kImages.append(kImage)\n",
    "    kImArr = kImage.getArray().transpose()\n",
    "    refKImArr = (basisImArrList[0] * coeff0) + (basisImArrList[1] * coeff1)\n",
    "    \n",
    "print [kim.getArray().sum() for kim in kImages]\n",
    "\n",
    "reload(dit)\n",
    "dit.plotImageGrid(kImages, clim=(0,1))"
   ]
  },
  {
   "cell_type": "code",
   "execution_count": 10,
   "metadata": {
    "collapsed": false
   },
   "outputs": [
    {
     "data": {
      "text/plain": [
       "<mpl_toolkits.axes_grid1.axes_grid.ImageGrid at 0x116179550>"
      ]
     },
     "execution_count": 10,
     "metadata": {},
     "output_type": "execute_result"
    },
    {
     "data": {
      "image/png": "[encoded data removed]",
      "text/plain": [
       "<matplotlib.figure.Figure at 0x115762a90>"
      ]
     },
     "metadata": {},
     "output_type": "display_data"
    }
   ],
   "source": [
    "sParams = (\n",
    "    (0.0, 0.0, 1.0),\n",
    "    (0.0, 1.0, 0.0),\n",
    ")\n",
    "kernel.setSpatialParameters(sParams)\n",
    "\n",
    "kImages = []\n",
    "for colPos, rowPos, coeff0, coeff1 in [\n",
    "    (0.0, 0.0, 0.0, 0.0),\n",
    "    (1.0, 0.0, 1.0, 0.0),\n",
    "    (0.0, 1.0, 0.0, 1.0),\n",
    "    (1.0, 1.0, 1.0, 1.0),\n",
    "    (0.5, 0.5, 0.5, 0.5),]:\n",
    "    kImage = afwImage.ImageD(afwGeom.Extent2I(kWidth, kHeight))\n",
    "    kernel.computeImage(kImage, False, colPos, rowPos)\n",
    "    kImages.append(kImage)\n",
    "    kImArr = kImage.getArray().transpose()\n",
    "    refKImArr = (basisImArrList[0] * coeff0) + (basisImArrList[1] * coeff1)\n",
    "    \n",
    "print [kim.getArray().sum() for kim in kImages]\n",
    "\n",
    "reload(dit)\n",
    "dit.plotImageGrid(kImages, clim=(0,1))"
   ]
  },
  {
   "cell_type": "markdown",
   "metadata": {
    "collapsed": true
   },
   "source": [
    "It looks like a LanczosFunction2D is what we could use to \"interpolate\" between a grid of kernels.\n",
    "Let's see at least if it will work.\n",
    "\n",
    "We will need to set a separate LanczosFunction2D for each kernel, centered on the center location upon which the grid was calculated (the first param of LanczosFunction2D() is 'n' which describes the spatial scale)"
   ]
  },
  {
   "cell_type": "code",
   "execution_count": 18,
   "metadata": {
    "collapsed": false
   },
   "outputs": [
    {
     "name": "stdout",
     "output_type": "stream",
     "text": [
      "[2.2000000000000002, 3.0]\n",
      "[2.2000000000000002, 7.9017866906406836e-33, 7.9017866906406836e-33, 3.0, 0.85412972358973682]\n"
     ]
    },
    {
     "data": {
      "text/plain": [
       "<mpl_toolkits.axes_grid1.axes_grid.ImageGrid at 0x11965b150>"
      ]
     },
     "execution_count": 18,
     "metadata": {},
     "output_type": "execute_result"
    },
    {
     "data": {
      "image/png": "[encoded data removed]",
      "text/plain": [
       "<matplotlib.figure.Figure at 0x1189f2310>"
      ]
     },
     "metadata": {},
     "output_type": "display_data"
    }
   ],
   "source": [
    "sParams = afwMath.Function2DList()\n",
    "sParams.append(afwMath.LanczosFunction2D(1, 0., 0.))\n",
    "sParams.append(afwMath.LanczosFunction2D(1, 1., 1.))\n",
    "kernel = afwMath.LinearCombinationKernel(basisKernelList, sParams)\n",
    "\n",
    "kImages = []\n",
    "for colPos, rowPos in [\n",
    "    (0.0, 0.0),\n",
    "    (1.0, 0.0),\n",
    "    (0.0, 1.0),\n",
    "    (1.0, 1.0),\n",
    "    (0.5, 0.5),]:\n",
    "    kImage = afwImage.ImageD(afwGeom.Extent2I(kWidth, kHeight))\n",
    "    kernel.computeImage(kImage, False, colPos, rowPos)\n",
    "    kImages.append(kImage)\n",
    "    kImArr = kImage.getArray().transpose()\n",
    "    \n",
    "print [kim.sum() for kim in basisImArrList]\n",
    "print [kim.getArray().sum() for kim in kImages]\n",
    "\n",
    "reload(dit)\n",
    "dit.plotImageGrid(kImages, clim=(0,1))"
   ]
  },
  {
   "cell_type": "markdown",
   "metadata": {},
   "source": [
    "OK, seems to work. Let's try it with 4 kernels on the corners and make sure that the normalization is okay."
   ]
  },
  {
   "cell_type": "code",
   "execution_count": 32,
   "metadata": {
    "collapsed": false
   },
   "outputs": [
    {
     "data": {
      "text/plain": [
       "<mpl_toolkits.axes_grid1.axes_grid.ImageGrid at 0x120e738d0>"
      ]
     },
     "execution_count": 32,
     "metadata": {},
     "output_type": "execute_result"
    },
    {
     "data": {
      "image/png": "[encoded data removed]",
      "text/plain": [
       "<matplotlib.figure.Figure at 0x120438f90>"
      ]
     },
     "metadata": {},
     "output_type": "display_data"
    }
   ],
   "source": [
    "kWidth = 3\n",
    "kHeight = 2\n",
    "\n",
    "# create image arrays for the basis kernels\n",
    "basisImArrList = []\n",
    "imArr = np.zeros((kWidth, kHeight), dtype=float)\n",
    "imArr[0,0] = 1\n",
    "basisImArrList.append(imArr)\n",
    "imArr = np.zeros((kWidth, kHeight), dtype=float)\n",
    "imArr[0,1] = 1\n",
    "basisImArrList.append(imArr)\n",
    "imArr = np.zeros((kWidth, kHeight), dtype=float)\n",
    "imArr[1,0] = 1\n",
    "basisImArrList.append(imArr)\n",
    "imArr = np.zeros((kWidth, kHeight), dtype=float)\n",
    "imArr[1,1] = 1\n",
    "basisImArrList.append(imArr)\n",
    "\n",
    "# create a list of basis kernels from the images\n",
    "basisKernelList = afwMath.KernelList()\n",
    "for basisImArr in basisImArrList:\n",
    "    basisImage = afwImage.makeImageFromArray(basisImArr.transpose().copy())\n",
    "    kernel = afwMath.FixedKernel(basisImage)\n",
    "    basisKernelList.append(kernel)\n",
    "\n",
    "reload(dit)\n",
    "dit.plotImageGrid(basisKernelList, clim=(0,0.5))"
   ]
  },
  {
   "cell_type": "code",
   "execution_count": 56,
   "metadata": {
    "collapsed": false
   },
   "outputs": [
    {
     "name": "stdout",
     "output_type": "stream",
     "text": [
      "[1.0, 1.0, 1.0, 1.0]\n",
      "[1.0, 1.0, 1.0, 1.0, 0.6570228642997975]\n"
     ]
    },
    {
     "data": {
      "text/plain": [
       "<mpl_toolkits.axes_grid1.axes_grid.ImageGrid at 0x1268c6090>"
      ]
     },
     "execution_count": 56,
     "metadata": {},
     "output_type": "execute_result"
    },
    {
     "data": {
      "image/png": "[encoded data removed]",
      "text/plain": [
       "<matplotlib.figure.Figure at 0x124850e90>"
      ]
     },
     "metadata": {},
     "output_type": "display_data"
    }
   ],
   "source": [
    "sParams = afwMath.Function2DList()\n",
    "aScale = 1\n",
    "sParams.append(afwMath.LanczosFunction2D(aScale, 0., 0.))\n",
    "sParams.append(afwMath.LanczosFunction2D(aScale, 0., 1.))\n",
    "sParams.append(afwMath.LanczosFunction2D(aScale, 1., 1.))\n",
    "sParams.append(afwMath.LanczosFunction2D(aScale, 1., 0.))\n",
    "kernel = afwMath.LinearCombinationKernel(basisKernelList, sParams)\n",
    "\n",
    "kImages = []\n",
    "for colPos, rowPos in [\n",
    "    (0.0, 0.0),\n",
    "    (1.0, 0.0),\n",
    "    (0.0, 1.0),\n",
    "    (1.0, 1.0),\n",
    "    (0.5, 0.5),]:\n",
    "    kImage = afwImage.ImageD(afwGeom.Extent2I(kWidth, kHeight))\n",
    "    kernel.computeImage(kImage, False, colPos, rowPos)\n",
    "    kImages.append(kImage)\n",
    "    kImArr = kImage.getArray().transpose()\n",
    "    \n",
    "print [kim.sum() for kim in basisImArrList]\n",
    "print [kim.getArray().sum() for kim in kImages]\n",
    "\n",
    "reload(dit)\n",
    "dit.plotImageGrid(kImages, clim=(0,1))"
   ]
  },
  {
   "cell_type": "code",
   "execution_count": 67,
   "metadata": {
    "collapsed": false
   },
   "outputs": [
    {
     "name": "stdout",
     "output_type": "stream",
     "text": [
      "[-1.  -0.9 -0.8 -0.7 -0.6 -0.5 -0.4 -0.3 -0.2 -0.1  0.   0.1  0.2  0.3  0.4\n",
      "  0.5  0.6  0.7  0.8  0.9  1. ]\n",
      "[  6.15860293e-34   4.84105715e-03   2.21675602e-02   5.48503887e-02\n",
      "   1.03174091e-01   1.64255716e-01   2.32141705e-01   2.98629894e-01\n",
      "   3.54680964e-01   3.92125629e-01   4.05284735e-01   3.92125629e-01\n",
      "   3.54680964e-01   2.98629894e-01   2.32141705e-01   1.64255716e-01\n",
      "   1.03174091e-01   5.48503887e-02   2.21675602e-02   4.84105715e-03\n",
      "   6.15860293e-34]\n",
      "[ 0.65702286]\n"
     ]
    },
    {
     "data": {
      "text/plain": [
       "[<matplotlib.lines.Line2D at 0x128d338d0>]"
      ]
     },
     "execution_count": 67,
     "metadata": {},
     "output_type": "execute_result"
    },
    {
     "data": {
      "image/png": "[encoded data removed]",
      "text/plain": [
       "<matplotlib.figure.Figure at 0x1284c8d90>"
      ]
     },
     "metadata": {},
     "output_type": "display_data"
    }
   ],
   "source": [
    "tmp = afwMath.LanczosFunction2D(aScale, 0., 0.)\n",
    "x = np.linspace(-1.,1.,21)\n",
    "y = np.array([tmp(xx, 0.5) for xx in x])\n",
    "print x\n",
    "print y\n",
    "print y[x == 0.5] * 4.\n",
    "plt.plot(x, y)"
   ]
  },
  {
   "cell_type": "code",
   "execution_count": 70,
   "metadata": {
    "collapsed": false
   },
   "outputs": [
    {
     "name": "stdout",
     "output_type": "stream",
     "text": [
      "[ 0.65702286]\n"
     ]
    },
    {
     "data": {
      "text/plain": [
       "[<matplotlib.lines.Line2D at 0x1292d6b90>]"
      ]
     },
     "execution_count": 70,
     "metadata": {},
     "output_type": "execute_result"
    },
    {
     "data": {
      "image/png": "[encoded data removed]",
      "text/plain": [
       "<matplotlib.figure.Figure at 0x12917a110>"
      ]
     },
     "metadata": {},
     "output_type": "display_data"
    }
   ],
   "source": [
    "y2 = np.sinc(x) * np.sinc(x/aScale) * (np.sinc(0.5) * np.sinc(0.5/a))\n",
    "print y2[x == 0.5] * 4.\n",
    "plt.plot(x, y2)"
   ]
  },
  {
   "cell_type": "code",
   "execution_count": null,
   "metadata": {
    "collapsed": true
   },
   "outputs": [],
   "source": []
  }
 ],
 "metadata": {
  "kernelspec": {
   "display_name": "Python 2",
   "language": "python",
   "name": "python2"
  },
  "language_info": {
   "codemirror_mode": {
    "name": "ipython",
    "version": 2
   },
   "file_extension": ".py",
   "mimetype": "text/x-python",
   "name": "python",
   "nbconvert_exporter": "python",
   "pygments_lexer": "ipython2",
   "version": "2.7.12"
  }
 },
 "nbformat": 4,
 "nbformat_minor": 0
}
